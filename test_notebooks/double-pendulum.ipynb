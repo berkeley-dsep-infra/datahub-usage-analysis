{
 "cells": [
  {
   "cell_type": "markdown",
   "metadata": {},
   "source": [
    "# P105 HW 11 double pendulum computational problem"
   ]
  },
  {
   "cell_type": "markdown",
   "metadata": {},
   "source": [
    "Written by Ben Foster\n",
    "\n",
    "### Learning objectives\n",
    "In this question you will:\n",
    "- study the double pendulum theoretically using Lagrangian mechanics\n",
    "- numerically solve differential equations that can't be solved analytically\n",
    "- assess the effectiveness of numerics by comparing theoretical expectations to numerical results \n",
    "- understand what people mean by \"chaos\" by analysing a chaotic system"
   ]
  },
  {
   "cell_type": "markdown",
   "metadata": {},
   "source": [
    "We have shown in a previous homework that the Lagrangian of the double pendulum system is given by $$L=\\tfrac{1}{2}(m_1+m_2)L_1^2\\dot\\phi_1^2+\\tfrac{1}{2}m_2L_2^2\\dot\\phi_2^2+m_2L_1L_2\\dot\\phi_1\\dot\\phi_2\\cos(\\phi_2-\\phi_1)-(m_1+m_2)gL_1(1-\\cos\\phi_1)-m_2gL_2(1-\\cos\\phi_2).$$"
   ]
  },
  {
   "cell_type": "markdown",
   "metadata": {},
   "source": [
    "The equations of motion are then given by:"
   ]
  },
  {
   "cell_type": "markdown",
   "metadata": {},
   "source": [
    "\\begin{align}\\frac{d}{dt}\\left(\\frac{\\partial L}{\\partial \\dot\\phi_1}\\right)-\\frac{\\partial L}{\\partial \\phi_1} &=\n",
    "\\frac{d}{dt}\\left((m_1+m_2)L_1^2\\dot\\phi_1+m_2L_1L_2\\dot\\phi_2\\cos(\\phi_2-\\phi_1)\\right)-m_2L_1L_2\\dot\\phi_1\\dot\\phi_2\\sin(\\phi_2-\\phi_1)+(m_1+m_2)gL_1\\sin\\phi_1\\\\&=\n",
    "(m_1+m_2)L_1^2\\ddot\\phi_1+m_2L_1L_2\\ddot\\phi_2\\cos(\\phi_2-\\phi_1)-m_2L_1L_2\\dot\\phi_2^2\\sin(\\phi_2-\\phi_1)+(m_1+m_2)gL_1\\sin\\phi_1=0,\\\\\n",
    "\\frac{d}{dt}\\left(\\frac{\\partial L}{\\partial \\dot\\phi_2}\\right)-\\frac{\\partial L}{\\partial \\phi_2} &=\n",
    "\\frac{d}{dt}\\left(m_2L_2^2\\dot\\phi_2+m_2L_1L_2\\dot\\phi_1\\cos(\\phi_2-\\phi_1)\\right)+m_2L_1L_2\\dot\\phi_1\\dot\\phi_2\\sin(\\phi_2-\\phi_1)+m_2gL_2\\sin\\phi_2\\\\&=\n",
    "m_2L_2^2\\ddot\\phi_2+m_2L_1L_2\\ddot\\phi_1\\cos(\\phi_2-\\phi_1)+m_2L_1L_2\\dot\\phi_1^2\\sin(\\phi_2-\\phi_1)+m_2gL_2\\sin\\phi_2=0.\\end{align}"
   ]
  },
  {
   "cell_type": "markdown",
   "metadata": {},
   "source": [
    "Under the small angle approximation $\\phi_1,\\phi_2\\ll1$ (keeping only first-order terms), we can find the normal modes of oscillation"
   ]
  },
  {
   "cell_type": "markdown",
   "metadata": {},
   "source": [
    "Under the small-angle approximation, \\begin{align}(m_1+m_2)L_1^2\\ddot\\phi_1+m_2L_1L_2\\ddot\\phi_2&=-(m_1+m_2)gL_1\\phi_1,\\\\m_2L_2^2\\ddot\\phi_2+m_2L_1L_2\\ddot\\phi_1&=-m_2gL_2\\phi_2,\\end{align} i.e. $$\\begin{pmatrix}\\phi_1\\\\\\phi_2\\end{pmatrix}=-\\frac{1}{g}\\begin{pmatrix}L_1&\\frac{m_2}{m_1+m_2}L_2\\\\L_1&L_2\\end{pmatrix}\\frac{d^2}{dt^2}\\begin{pmatrix}\\phi_1\\\\\\phi_2\\end{pmatrix}.$$ Recall that a system satisfying $\\ddot x=-A x$ for positive semi-definite $A$ has normal modes given by the eigenvectors of $A$ and (squared) frequencies given by the corresponding eigenvalues. In this case we have $x=-A\\ddot x$, so we need the matrix inverse, which means the eigenvectors will be the same but we will need to invert the eigenvalues to obtain the frequencies.\n",
    "\n",
    "You can check that the eigenfrequencies are given by $$\\frac{g}{\\omega^2_\\pm}=\\frac{L_1+L_2}{2}\\pm\\sqrt{\\frac{(L_1+L_2)^2}{4}-\\frac{m_1}{m_1+m_2}L_1L_2},$$ with eigenvectors $\\begin{pmatrix}1\\\\x_\\pm\\end{pmatrix}$, where $$x_\\pm=\\frac{m_1+m_2}{m_2L_2}\\left(\\frac{g}{\\omega_\\pm^2}-L_1\\right).$$ When $m_1=m_2$ and $L_1=L_2$, the mode in which the pendula are out of phase ($x_\\pm<0$) oscillates faster than the one where they are in phase ($x_\\pm>0$), which corresponds with the animation."
   ]
  },
  {
   "cell_type": "markdown",
   "metadata": {},
   "source": [
    "Now use your theoretical solution for small angles to fill in the following Python function that, given the initial state of the double pendulum, returns the states at some specified times. Use the convention $(\\phi_1,\\phi_2,\\dot\\phi_1,\\dot\\phi_2)^T$ for the state. (Hint: transform to the basis of normal modes and then transform back. The usual mapping of $\\mathbb{R}^{2n}$ to $\\mathbb{C}^n$ might be useful here.)"
   ]
  },
  {
   "cell_type": "markdown",
   "metadata": {},
   "source": [
    "The general solution may be expressed as \\begin{align}\\phi_1(t)&=A_+\\cos\\omega_+t+B_+\\sin\\omega_+t+A_-\\cos\\omega_-t+B_-\\sin\\omega_-t,\\\\\\phi_2(t)&=x_+A_+\\cos\\omega_+t+x_+B_+\\sin\\omega_+t+x_-A_-\\cos\\omega_-t+x_-B_-\\sin\\omega_-t.\\end{align} Therefore, at $t=0$, \\begin{align}\\begin{pmatrix}\\phi_1\\\\\\phi_2\\end{pmatrix} &= \\begin{pmatrix}A_++A_-\\\\x_+A_++x_-A_-\\end{pmatrix}=\\begin{pmatrix}1&1\\\\x_+&x_-\\end{pmatrix}\\begin{pmatrix}A_+\\\\A_-\\end{pmatrix},\\\\\\frac{d}{dt}\\begin{pmatrix}\\phi_1\\\\\\phi_2\\end{pmatrix} &= \\begin{pmatrix}\\omega_+B_++\\omega_-B_-\\\\\\omega_+x_+B_++\\omega_-x_-B_-\\end{pmatrix}=\\begin{pmatrix}1&1\\\\x_+&x_-\\end{pmatrix}\\begin{pmatrix}\\omega_+B_+\\\\\\omega_-B_-\\end{pmatrix},\\end{align} so to find the coefficients we need to invert the matrix of eigenvectors.\n",
    "\n",
    "For this problem you might find Numpy's `linalg` library helpful."
   ]
  },
  {
   "cell_type": "code",
   "execution_count": null,
   "metadata": {},
   "outputs": [],
   "source": [
    "import numpy as np\n",
    "from math import sqrt\n",
    "\n",
    "def small_angle_soln(initial_state, tmax, N, m1=1, m2=1, L1=1, L2=1, g=1):\n",
    "    \"\"\"\n",
    "    Returns: tuple (times, states) where:\n",
    "    times is an array of shape (N,) evenly sampled from 0 to tmax,\n",
    "    states is array of shape (4,N) containing corresponding states in \n",
    "        the format (phi_1, phi_2, d/dt phi_1, d/dt phi_2)\n",
    "    \"\"\"\n",
    "    times = np.linspace(0,tmax,N)\n",
    "    \n",
    "    phi1 = \n",
    "    phi2 = \n",
    "    dotphi1 = \n",
    "    dotphi2 = \n",
    "    \n",
    "    return times, np.array([phi1, phi2, dotphi1, dotphi2])"
   ]
  },
  {
   "cell_type": "markdown",
   "metadata": {},
   "source": [
    "The following cells contains a visualisation function that animates the double pendulum given a list of times and state vectors. You might find it useful."
   ]
  },
  {
   "cell_type": "code",
   "execution_count": null,
   "metadata": {},
   "outputs": [],
   "source": [
    "%matplotlib inline\n",
    "from matplotlib import pyplot as plt\n",
    "from matplotlib.animation import FuncAnimation\n",
    "from IPython.display import display,HTML\n",
    "\n",
    "plt.rcParams[\"animation.embed_limit\"] = 200 \n",
    "#sets the max animation size to 200MB so that you can make long animations if you want\n",
    "\n",
    "def animate(times, states, c=\"k\", m1=1, m2=1, L1=1, L2=1, g=1, labels=None):\n",
    "    \"\"\"\n",
    "    Returns animation of pendula (or pendulum). \n",
    "    times must be array of shape (N,).\n",
    "    states must be array of shape (4,N), or list-like of n such arrays. (n is # of pendula)\n",
    "        states must follow the usual convention.\n",
    "    c must be list-like of length n. c[i] will be the colour of pendulum i.\n",
    "    m1...g are problem parameters (g has no effect here)\n",
    "    if labels are provided, must be list-like of length n. labels[i] will be label of pendulum i.\n",
    "    Returns nothing, but displays the animation.\n",
    "    \"\"\"\n",
    "    #change matplotlib backend so plots aren't displayed (only animation is)\n",
    "    %matplotlib agg\n",
    "    n = len(c) #number of pendula\n",
    "    N = len(times) #number of frames\n",
    "    xs, ys = [], [] #positions of pendula (store them to update them during animation)\n",
    "    strings = [] #line objects depicting strings (store them to update them during animation)\n",
    "    pendula = [] #(tuples of) circle objects depiciting masses (store them to update them during animation)\n",
    "    f = plt.figure(figsize=(6,6))\n",
    "    labels = [None]*n if labels is None else labels\n",
    "    for i in range(n):\n",
    "        state = states[i] if n>1 else angles #get (4,N) state vector array\n",
    "        x,y = np.zeros((N,3)), np.zeros((N,3)) #positions of string ends (which contains positions of pendula)\n",
    "        y[:,1] = -L1*np.cos(state[0])\n",
    "        x[:,1] = L1*np.sin(state[0])\n",
    "        y[:,2] = y[:,1] - L2*np.cos(state[1])\n",
    "        x[:,2] = x[:,1] + L2*np.sin(state[1])\n",
    "        xs.append(x) #store positions\n",
    "        ys.append(y)\n",
    "        args = {\"color\": c[i], \"alpha\": sqrt(1/n)} #plotting args\n",
    "        strings.append(plt.plot(x[0], y[0], label=labels[i], **args)[0]) #plot string at initial posn, store line object\n",
    "        pend = plt.Circle((x[0,1],y[0,1]), m1**(1/3)/10, **args), plt.Circle((x[0,2],y[0,2]), m2**(1/3)/10, **args)\n",
    "        [plt.gca().add_artist(p) for p in pend] #plot masses at initial posn\n",
    "        pendula.append(pend) #store circle\n",
    "    tit = plt.title(f\"$t=0$\") #store title object to update time\n",
    "    padding = m2**(1/3)/10+0.1\n",
    "    plt.xlim(-L1-L2-padding,L1+L2+padding) #set bounds so pundulum is always displayed\n",
    "    plt.ylim(-L1-L2-padding,L1+L2+padding)\n",
    "    to_ret = [tit]+strings #list of things to be updated at each frame (for blitting)\n",
    "    for p in pendula:\n",
    "        to_ret += list(p)\n",
    "    plt.xticks([]) #don't display the scale of axes\n",
    "    plt.yticks([])\n",
    "    plt.gca().set_aspect(\"equal\") #set aspect ratio to 1\n",
    "    if labels[0] is not None: #add legend if wanted\n",
    "        plt.legend(frameon=False, loc=\"upper left\")\n",
    "    \n",
    "    def update(j):\n",
    "        tit.set_text(f\"$t={times[j]:.2f}$\") #update time in title\n",
    "        for i in range(n):\n",
    "            strings[i].set_data(xs[i][j],ys[i][j]) #update string ends\n",
    "            pendula[i][0].set_center((xs[i][j,1],ys[i][j,1])) #update first mass\n",
    "            pendula[i][1].set_center((xs[i][j,2],ys[i][j,2])) #update second mass\n",
    "        return to_ret #return changed elements for blitting\n",
    "    \n",
    "    anim = FuncAnimation(f, update, range(N), interval=1e3/24, blit=True) #24 fps\n",
    "    display(HTML(anim.to_jshtml())) #output animation\n",
    "    %matplotlib inline"
   ]
  },
  {
   "cell_type": "markdown",
   "metadata": {},
   "source": [
    "As a test of your `small_angle_soln()`, and to show you how to use the `animate()` function, fill in the appropriate initial states to recover the normal modes for $m_1=m_2$ and $L_1=L_2$, and compare your animation to the one provided in the homework 11 folder on bcourses."
   ]
  },
  {
   "cell_type": "code",
   "execution_count": null,
   "metadata": {},
   "outputs": [],
   "source": [
    "initial_state_1 = #answer here\n",
    "initial_state_2 = #answer here\n",
    "\n",
    "tmax = 20\n",
    "N = 200\n",
    "\n",
    "times, normal_mode_1 = small_angle_soln(initial_state_1, tmax, N)\n",
    "times, normal_mode_2 = small_angle_soln(initial_state_2, tmax, N)\n",
    "\n",
    "animate(times, (normal_mode_1, normal_mode_2), \"rb\")"
   ]
  },
  {
   "cell_type": "markdown",
   "metadata": {},
   "source": [
    "The following cells contain a visualisation function that plots a sampled trajectory in phase space."
   ]
  },
  {
   "cell_type": "code",
   "execution_count": 2,
   "metadata": {},
   "outputs": [],
   "source": [
    "from matplotlib.colors import Normalize\n",
    "from matplotlib.colorbar import ColorbarBase\n",
    "from matplotlib import cm as cmaps\n",
    "\n",
    "def plot_phase_space(times, states, size=1, cmap=cmaps.rainbow):\n",
    "    \"\"\"\n",
    "    times must be array of shape (N,) and states must be array of shape (4,N) following usual conventions.\n",
    "    size is the size of marker (you might want to reduce it if N is large).\n",
    "    cmap must be a matplotlib colourmap.\n",
    "    Returns nothing, plots the sampled trajectory in 4-d phase space as 6 2-d plots. \n",
    "    \"\"\"\n",
    "    f,ax = plt.subplots(3, 3, sharex=True, sharey=True, figsize=(12,12), gridspec_kw={\"hspace\": 0.02, \"wspace\": 0.02})\n",
    "    labels = [r\"$\\phi_1$\", r\"$\\phi_2$\", r\"$\\dot\\phi_1$\", r\"$\\dot\\phi_2$\"]\n",
    "    args = {\"c\": times, \"s\": size, \"cmap\": cmap}\n",
    "    for i in range(3):\n",
    "        ax[i,0].set_ylabel(labels[i+1])\n",
    "        ax[-1,i].set_xlabel(labels[i])\n",
    "        for j in range(i+1):\n",
    "            ax[i,j].scatter(states[j], states[i+1], **args)\n",
    "        for j in range(i+1,3):\n",
    "            ax[i,j].axis(\"off\")\n",
    "    cbax =  f.add_axes([0.58,0.87,0.3,.01])\n",
    "    ColorbarBase(cbax, cmap=cmap, norm=Normalize(times[0], times[-1]), orientation=\"horizontal\", label=\"$t$\")"
   ]
  },
  {
   "cell_type": "markdown",
   "metadata": {},
   "source": [
    "Run the following cell to visualise the solutions you animated above in phase space. Is this what you expect?"
   ]
  },
  {
   "cell_type": "code",
   "execution_count": null,
   "metadata": {},
   "outputs": [],
   "source": [
    "plot_phase_space(times, normal_mode_1)"
   ]
  },
  {
   "cell_type": "code",
   "execution_count": null,
   "metadata": {},
   "outputs": [],
   "source": [
    "plot_phase_space(times, normal_mode_2)"
   ]
  },
  {
   "cell_type": "markdown",
   "metadata": {},
   "source": [
    "Now play around with the system. Plot phase space trajectories for some other initial states that are not normal modes. Use large values for $t_\\max$ and $N$. What does the phase space trajectory look like? Is it periodic, or dense in some allowed phase space? \n",
    "\n",
    "An _ergodic_ system is a system in which from any starting state, one reaches arbitrarily close to any given state at some time. Does this system (linearised under the small-angle approximation) display ergodicity?"
   ]
  },
  {
   "cell_type": "code",
   "execution_count": null,
   "metadata": {},
   "outputs": [],
   "source": [
    "#write code here"
   ]
  },
  {
   "cell_type": "markdown",
   "metadata": {},
   "source": [
    "write answer here"
   ]
  },
  {
   "cell_type": "markdown",
   "metadata": {},
   "source": [
    "We can rewrite the (full) equations of motion as a (non-linear) four-dimensional first-order ODE. Use the same convention for the state, $(\\phi_1,\\phi_2,\\dot\\phi_1,\\dot\\phi_2)^T$."
   ]
  },
  {
   "cell_type": "markdown",
   "metadata": {},
   "source": [
    "$$\\frac{d}{dt}\\begin{pmatrix}\\phi_1\\\\\\phi_2\\\\\\dot\\phi_1\\\\\\dot\\phi_2\\end{pmatrix}=\\begin{pmatrix}\\dot\\phi_1\\\\\\dot\\phi_2\\\\\\frac{m_2L_2\\dot\\phi_2^2\\sin(\\phi_2-\\phi_1)-(m_1+m_2)g\\sin\\phi_1+m_2L_1\\dot\\phi_1^2\\sin(\\phi_2-\\phi_1)\\cos(\\phi_2-\\phi_1)+m_2g\\sin\\phi_2\\cos(\\phi_2-\\phi_1)}{(m_1+m_2\\sin^2(\\phi_2-\\phi_1))L_1}\\\\\\frac{-(m_1+m_2)L_1\\dot\\phi_1^2\\sin(\\phi_2-\\phi_1)-(m_1+m_2)g\\sin\\phi_2-m_2L_2\\dot\\phi_2^2\\sin(\\phi_2-\\phi_1)\\cos(\\phi_2-\\phi_1)+(m_1+m_2)g\\sin\\phi_1\\cos(\\phi_2-\\phi_1)}{(m_1+m_2\\sin^2(\\phi_2-\\phi_1))L_2}\\end{pmatrix}$$"
   ]
  },
  {
   "cell_type": "markdown",
   "metadata": {},
   "source": [
    "Implement the answer above in the following function: "
   ]
  },
  {
   "cell_type": "code",
   "execution_count": null,
   "metadata": {},
   "outputs": [],
   "source": [
    "def derivative(state, m1=1, m2=1, L1=1, L2=1, g=1):\n",
    "    \"\"\"Given state of shape (4,) as well as the problem parameters, \n",
    "    returns an array of shape (4,) representing the time-derivative of the state\"\"\"\n",
    "    der = \n",
    "    #fill in your answer here\n",
    "    return der"
   ]
  },
  {
   "cell_type": "markdown",
   "metadata": {},
   "source": [
    "Let's use some differential equation solvers to solve the full, non-linear EoMs which we can't solve analytically. The functions given below are implementations of the Euler, Symplectic Euler, and a 5<sup>th</sup> order Runge-Kutta method (these methods are introduced in the [introductory Python notebooks](https://github.com/avirukt/intro_python/blob/master/Intro%20to%20numerics.ipynb)) and follow the same conventions (and have the same call signature) as `small_angle_soln()`. They will solve the ODE defined by your implementation of `derivative()`, which, if you did everything right, are the EoMs of the double pendulum."
   ]
  },
  {
   "cell_type": "code",
   "execution_count": null,
   "metadata": {},
   "outputs": [],
   "source": [
    "from scipy.integrate import solve_ivp\n",
    "\n",
    "def euler(initial_state, tmax, N, **extra_args):\n",
    "    times = np.linspace(0,tmax,N)\n",
    "    dt = times[1]-times[0]\n",
    "    states = np.zeros((N,4))\n",
    "    states[0] = initial_state\n",
    "    for i in range(N-1):\n",
    "        states[i+1] = states[i] + derivative(states[i], **extra_args)*dt\n",
    "    return times, states.T\n",
    "    \n",
    "def symplectic_euler(initial_state, tmax, N, **extra_args):\n",
    "    times = np.linspace(0,tmax,N)\n",
    "    dt = times[1]-times[0]\n",
    "    states = np.zeros((N,4))\n",
    "    states[0] = initial_state\n",
    "    for i in range(N-1):\n",
    "        states[i+1,2:] = states[i,2:] + derivative(states[i], **extra_args)[2:]*dt\n",
    "        states[i+1,:2] = states[i,:2] + states[i+1,2:]*dt\n",
    "    return times, states.T\n",
    "\n",
    "def runge_kutta(initial_state, tmax, N, **extra_args):\n",
    "    times = np.linspace(0,tmax,N)\n",
    "    fn = lambda t,y: derivative(y, **extra_args)\n",
    "    soln = solve_ivp(fn, (0, tmax), initial_state, max_step=tmax/(N+1), dense_output=True).sol\n",
    "    return times, soln(times)"
   ]
  },
  {
   "cell_type": "markdown",
   "metadata": {},
   "source": [
    "Here is a function that will plot phase-space plots (and, optionally, an animation) of trajectories sampled using each of the three methods (and, optionally, the theoretical small-angle solution) for comparison. There is also a helper function to bring angles within the interval $[-\\pi,\\pi)$, which might be useful later."
   ]
  },
  {
   "cell_type": "code",
   "execution_count": null,
   "metadata": {},
   "outputs": [],
   "source": [
    "def bound_angles(states):\n",
    "    \"\"\"Returns copy of states, where angles are in the interval [-pi,pi)\"\"\"\n",
    "    states = states.copy()\n",
    "    states[:2] = (states[:2]+np.pi)%(2*np.pi)-np.pi\n",
    "    return states\n",
    "\n",
    "def compare_methods(*args, theo=False, anim=True, energies=False, **extra_args):\n",
    "    \"\"\"\n",
    "    First three args must be initial_state, tmax and N.\n",
    "    theo is boolean for whether or not to include theoretical small-angle solution in comparison.\n",
    "    anim is boolean for whether or not to animate the trajectories (takes a while, so don't use for large N).\n",
    "    energies is boolean for whether or not to plot the energies as well. (requires function \"energy\" to be defined)\n",
    "    extra_args are problem parameters.\n",
    "    Returns nothing, solves ODE using the 3-4 methods, and plots phase-space trajectories (and animations).\n",
    "    \"\"\"\n",
    "    labels = [\"Euler\", \"symplectic Euler\", \"5th-order Runge-Kutta\"]\n",
    "    methods = [euler, symplectic_euler, runge_kutta]\n",
    "    colours = \"rgb\"\n",
    "    if theo:\n",
    "        labels += [\"theoretical (small-angle)\"]\n",
    "        methods += [small_angle_soln]\n",
    "        colours =\"rgbk\"\n",
    "    ys=[]\n",
    "    for meth in methods:\n",
    "        t,a = meth(*args, **extra_args)\n",
    "        ys.append(a)\n",
    "    if anim:\n",
    "        extra_args[\"labels\"] = labels\n",
    "        animate(t, ys, colours, **extra_args)\n",
    "    for i in range(len(labels)):\n",
    "        plot_phase_space(t,bound_angles(ys[i]))\n",
    "        plt.suptitle(labels[i])\n",
    "    if energies:\n",
    "        plt.figure()\n",
    "        for i in range(len(labels)):\n",
    "            plt.plot(t,energy(ys[i],**extra_args),label=labels[i])\n",
    "        plt.axhline(energy(args[0],**extra_args),color=\"k\",ls=\"--\",label=\"true value\")\n",
    "        plt.legend(frameon=False)\n",
    "        plt.xlabel(\"time\")\n",
    "        plt.ylabel(\"energy\")\n",
    "        plt.yscale(\"log\")"
   ]
  },
  {
   "cell_type": "markdown",
   "metadata": {},
   "source": [
    "For a small angle, compare the three methods to the theoretical solution. Which methods are able to capture the continuous behaviour, and which aren't? Simply running the following cell will give you lots of information."
   ]
  },
  {
   "cell_type": "code",
   "execution_count": null,
   "metadata": {},
   "outputs": [],
   "source": [
    "%time compare_methods([0.01,0,0,0], 60, 500, theo=True)"
   ]
  },
  {
   "cell_type": "markdown",
   "metadata": {},
   "source": [
    "The Euler method fails miserably, but the symplectic Euler and Runge-Kutta methods seem to do okay. The Runge-Kutta method seems to perform the best. Let's go to a longer time:"
   ]
  },
  {
   "cell_type": "code",
   "execution_count": null,
   "metadata": {},
   "outputs": [],
   "source": [
    "%time compare_methods([0.01,0,0,0], 600, 5000, theo=True, anim=False)"
   ]
  },
  {
   "cell_type": "markdown",
   "metadata": {},
   "source": [
    "Now you can see differences between the theoretical solution and the Runge-Kutta method as well, although this might be due to the (small) non-linearity."
   ]
  },
  {
   "cell_type": "markdown",
   "metadata": {},
   "source": [
    "Compare the three methods outside of the small-angle regime. For how long do they display qualitatively similar behaviour? Which method, if any, can we trust?"
   ]
  },
  {
   "cell_type": "code",
   "execution_count": null,
   "metadata": {},
   "outputs": [],
   "source": [
    "compare_methods([2,0,0,0], 30, 300)"
   ]
  },
  {
   "cell_type": "code",
   "execution_count": null,
   "metadata": {},
   "outputs": [],
   "source": [
    "%time compare_methods([3,-3,0,0], 50, 500, m2=3, L2=0.7)"
   ]
  },
  {
   "cell_type": "markdown",
   "metadata": {},
   "source": [
    "write solution here"
   ]
  },
  {
   "cell_type": "markdown",
   "metadata": {},
   "source": [
    "A good test that the differential equation solvers aren't accumulating errors is to check if constants of the motion are conserved (the ODE solvers don't know about conserved quantities, so they don't enforce them; if they did they would be more efficient). Here, the only (known) conserved quantity is energy. Why is that?"
   ]
  },
  {
   "cell_type": "markdown",
   "metadata": {},
   "source": [
    "write solution here"
   ]
  },
  {
   "cell_type": "markdown",
   "metadata": {},
   "source": [
    "Implement the following function to calculate the energies of state vectors. After implementing this function, you can pass `energies=True` to `compare_methods()` to also plot the energies of the trajectories, to check if it is constant. Hint: define the kinetic and potential energies and return U+T"
   ]
  },
  {
   "cell_type": "code",
   "execution_count": null,
   "metadata": {},
   "outputs": [],
   "source": [
    "def energy(states, m1=1, m2=1, L1=1, L2=1, g=1):\n",
    "    \"\"\"states is array of shape (4,N). Returns energies in array of shape (N,).\"\"\"\n",
    "    return #fill me in"
   ]
  },
  {
   "cell_type": "markdown",
   "metadata": {},
   "source": [
    "Now, integrating to large times (you might want to turn off animation), compare the three methods outside of the small-angle regime, also comparing the energies. How much can we trust the best method, and up to what sort of time scale?"
   ]
  },
  {
   "cell_type": "code",
   "execution_count": null,
   "metadata": {},
   "outputs": [],
   "source": [
    "#write code here"
   ]
  },
  {
   "cell_type": "markdown",
   "metadata": {},
   "source": [
    "write solution here"
   ]
  },
  {
   "cell_type": "markdown",
   "metadata": {},
   "source": [
    "You might have heard that the double pendulum is chaotic. This means that it is extremely sensitive to initial conditions. To demonstrate this, play with this animation of a few pendula that start off very close together but then diverge. Verify that the solver you use isn't giving you terribly unreasonable results."
   ]
  },
  {
   "cell_type": "code",
   "execution_count": null,
   "metadata": {},
   "outputs": [],
   "source": [
    "tmax = 50\n",
    "N = tmax*10\n",
    "times = np.linspace(0,tmax,N)\n",
    "labels = [r\"$\\phi_1(0)=2$\",\n",
    "          r\"$\\phi_1(0)=1.99999$\",\n",
    "          r\"$\\phi_1(0)=1.9999$\",\n",
    "          r\"$\\phi_1(0)=1.999$\",\n",
    "          r\"$\\phi_1(0)=1.99$\"\n",
    "         ]\n",
    "norms = [runge_kutta([2,0,0,0], tmax, N)[1],\n",
    "         runge_kutta([1.99999,0,0,0], tmax, N)[1],\n",
    "         runge_kutta([1.9999,0,0,0], tmax, N)[1],\n",
    "         runge_kutta([1.999,0,0,0], tmax, N)[1],\n",
    "         runge_kutta([1.99,0,0,0], tmax, N)[1]\n",
    "        ]\n",
    "%time animate(times, norms, \"rgbcm\", labels=labels)"
   ]
  },
  {
   "cell_type": "code",
   "execution_count": null,
   "metadata": {},
   "outputs": [],
   "source": [
    "for i in range(5):\n",
    "    plt.plot(times, energy(norms[i]), label=labels[i])\n",
    "plt.xlabel(\"time\")\n",
    "plt.ylabel(\"energy\")\n",
    "plt.legend(frameon=False)"
   ]
  },
  {
   "cell_type": "markdown",
   "metadata": {},
   "source": [
    "Chaotic systems aren't just unstable to perturbations: they are __extremely__ unstable to perturbations. Perturbations must grow exponentially for a system to be chaotic. Choose an appropriate initial state and find its trajectory. Then perturb it slightly in a few different ways, and track the differences in the trajectories. How quickly do perturbations grow? Is the double pendulum chaotic inside the small-angle regime (remember that most trajectories are dense)? How about outside it?"
   ]
  },
  {
   "cell_type": "code",
   "execution_count": null,
   "metadata": {},
   "outputs": [],
   "source": [
    "initial = [ #try out and compare a few initial states here to answer the above question ]\n",
    "eps = 1e-5\n",
    "tmax = 100\n",
    "N = 3000\n",
    "args={}\n",
    "diff = np.zeros((8,N))\n",
    "times, true = runge_kutta(initial,tmax,N,**args)\n",
    "for i in range(4):\n",
    "    for j in range(2):\n",
    "        initial[i] += (-1)**j*eps\n",
    "        diff[2*i+j] = np.sum((runge_kutta(initial,tmax,N,**args)[1]-true)**2,axis=0)\n",
    "        initial[i] -= (-1)**j*eps\n",
    "        plt.plot(times,diff[2*i+j],c=\"k\",alpha=0.5)\n",
    "plt.yscale(\"log\")\n",
    "plt.xlabel(\"time\")\n",
    "plt.ylabel(\"$L^2$ norm of perturbation in state vectors\")"
   ]
  },
  {
   "cell_type": "markdown",
   "metadata": {},
   "source": [
    "write aswer here"
   ]
  }
 ],
 "metadata": {
  "anaconda-cloud": {},
  "kernelspec": {
   "display_name": "Python 3 (ipykernel)",
   "language": "python",
   "name": "python3"
  },
  "language_info": {
   "codemirror_mode": {
    "name": "ipython",
    "version": 3
   },
   "file_extension": ".py",
   "mimetype": "text/x-python",
   "name": "python",
   "nbconvert_exporter": "python",
   "pygments_lexer": "ipython3",
   "version": "3.11.0"
  }
 },
 "nbformat": 4,
 "nbformat_minor": 4
}
