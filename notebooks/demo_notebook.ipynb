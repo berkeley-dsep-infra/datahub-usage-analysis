{
 "cells": [
  {
   "cell_type": "markdown",
   "metadata": {},
   "source": [
    "# Calculate cloud costs per day\n"
   ]
  },
  {
   "cell_type": "code",
   "execution_count": 4,
   "metadata": {},
   "outputs": [],
   "source": [
    "import json\n",
    "import subprocess\n",
    "import csv\n",
    "import sys\n",
    "from google.cloud import storage\n",
    "import io\n",
    "import tempfile\n",
    "from dateutil.parser import parse"
   ]
  },
  {
   "cell_type": "code",
   "execution_count": 5,
   "metadata": {},
   "outputs": [],
   "source": [
    "def totals_from_json(file):\n",
    "    totals = {}\n",
    "    for item in json.load(file):\n",
    "        cost = float(item['cost']['amount'])\n",
    "        time_range = (item['startTime'], item['endTime'])\n",
    "        totals[time_range] = totals.get(time_range, 0) + cost\n",
    "\n",
    "    return totals\n",
    "\n",
    "def totals_from_csv(file):\n",
    "    totals = {}\n",
    "    reader = csv.DictReader(file)\n",
    "    for row in reader:\n",
    "        time_range = (row['Start Time'], row['End Time'])\n",
    "        totals[time_range] = totals.get(time_range, 0) + float(row['Cost'])\n",
    "\n",
    "    return totals"
   ]
  },
  {
   "cell_type": "code",
   "execution_count": null,
   "metadata": {},
   "outputs": [],
   "source": []
  },
  {
   "cell_type": "code",
   "execution_count": 20,
   "metadata": {},
   "outputs": [],
   "source": [
    "def get_daily_cost(project, billing_bucket_name, kind='json'):\n",
    "    totals = {}\n",
    "    client = storage.Client(project)\n",
    "\n",
    "    bucket = storage.Bucket(client, billing_bucket_name)\n",
    "    if kind == 'csv':\n",
    "        prefix='report-'\n",
    "    else:\n",
    "        prefix='billing-'\n",
    "    blobs = bucket.list_blobs(prefix=prefix)\n",
    "\n",
    "    for blob in blobs:\n",
    "        buffer = io.StringIO(blob.download_as_string().decode())\n",
    "\n",
    "        if kind == 'csv':\n",
    "            current_totals = totals_from_csv(buffer)\n",
    "        else:\n",
    "            current_totals = totals_from_json(buffer)\n",
    "\n",
    "        for time_range, cost in current_totals.items():\n",
    "            totals[time_range] = totals.get(time_range, 0) + cost\n",
    "\n",
    "\n",
    "    # We want to push out sorted jsonl\n",
    "    sorted_items = [\n",
    "        { 'start_time': start_time, 'end_time': end_time, 'cost': cost }\n",
    "        for (start_time, end_time), cost in totals.items()\n",
    "    ]\n",
    "\n",
    "    sorted_items.sort(key=lambda d: d['start_time'])\n",
    "\n",
    "    return sorted_items"
   ]
  },
  {
   "cell_type": "code",
   "execution_count": 21,
   "metadata": {},
   "outputs": [
    {
     "name": "stderr",
     "output_type": "stream",
     "text": [
      "/home/yuvipanda/.local/share/virtualenvs/berkeley-datahub-analysis-rzfKRwiq/lib/python3.6/site-packages/google/auth/_default.py:66: UserWarning: Your application has authenticated using end user credentials from Google Cloud SDK. We recommend that most server applications use service accounts instead. If your application continues to use end user credentials from Cloud SDK, you might receive a \"quota exceeded\" or \"API not enabled\" error. For more information about service accounts, see https://cloud.google.com/docs/authentication/\n",
      "  warnings.warn(_CLOUD_SDK_CREDENTIALS_WARNING)\n"
     ]
    }
   ],
   "source": [
    "costs = get_daily_cost('ucb-datahub-2018','ucb_datahub_18_billing')"
   ]
  },
  {
   "cell_type": "code",
   "execution_count": 22,
   "metadata": {},
   "outputs": [],
   "source": [
    "with open('../data/processed/cloud-costs.jsonl', 'w') as f:\n",
    "    for day in costs:\n",
    "        f.write(json.dumps(day) + '\\n')\n"
   ]
  },
  {
   "cell_type": "code",
   "execution_count": null,
   "metadata": {},
   "outputs": [],
   "source": [
    "!ls"
   ]
  },
  {
   "cell_type": "code",
   "execution_count": null,
   "metadata": {},
   "outputs": [],
   "source": []
  }
 ],
 "metadata": {
  "kernelspec": {
   "display_name": "Python 3",
   "language": "python",
   "name": "python3"
  },
  "language_info": {
   "codemirror_mode": {
    "name": "ipython",
    "version": 3
   },
   "file_extension": ".py",
   "mimetype": "text/x-python",
   "name": "python",
   "nbconvert_exporter": "python",
   "pygments_lexer": "ipython3",
   "version": "3.6.3"
  }
 },
 "nbformat": 4,
 "nbformat_minor": 2
}
