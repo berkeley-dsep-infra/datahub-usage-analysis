{
 "cells": [
  {
   "cell_type": "code",
   "execution_count": 2,
   "metadata": {},
   "outputs": [],
   "source": [
    "import numpy as np\n",
    "import pandas as pd\n",
    "import gzip\n",
    "import re\n",
    "from urllib.parse import urlparse, parse_qs\n",
    "import os"
   ]
  },
  {
   "cell_type": "code",
   "execution_count": 3,
   "metadata": {},
   "outputs": [
    {
     "data": {
      "text/html": [
       "<div>\n",
       "<style scoped>\n",
       "    .dataframe tbody tr th:only-of-type {\n",
       "        vertical-align: middle;\n",
       "    }\n",
       "\n",
       "    .dataframe tbody tr th {\n",
       "        vertical-align: top;\n",
       "    }\n",
       "\n",
       "    .dataframe thead th {\n",
       "        text-align: right;\n",
       "    }\n",
       "</style>\n",
       "<table border=\"1\" class=\"dataframe\">\n",
       "  <thead>\n",
       "    <tr style=\"text-align: right;\">\n",
       "      <th></th>\n",
       "      <th>insertId</th>\n",
       "      <th>labels</th>\n",
       "      <th>logName</th>\n",
       "      <th>receiveTimestamp</th>\n",
       "      <th>resource</th>\n",
       "      <th>severity</th>\n",
       "      <th>textPayload</th>\n",
       "      <th>timestamp</th>\n",
       "    </tr>\n",
       "  </thead>\n",
       "  <tbody>\n",
       "    <tr>\n",
       "      <th>0</th>\n",
       "      <td>zfcnwk0zwtv1iq25</td>\n",
       "      <td>{'compute.googleapis.com/resource_name': 'gke-...</td>\n",
       "      <td>projects/ucb-datahub-2018/logs/stderr</td>\n",
       "      <td>2023-01-01T00:01:21.752824112Z</td>\n",
       "      <td>{'labels': {'cluster_name': 'fall-2019', 'cont...</td>\n",
       "      <td>ERROR</td>\n",
       "      <td>[I 2023-01-01 00:01:18.743 JupyterHub log:186]...</td>\n",
       "      <td>2023-01-01 00:01:18.744083889+00:00</td>\n",
       "    </tr>\n",
       "    <tr>\n",
       "      <th>1</th>\n",
       "      <td>z7c104em5irpurin</td>\n",
       "      <td>{'compute.googleapis.com/resource_name': 'gke-...</td>\n",
       "      <td>projects/ucb-datahub-2018/logs/stderr</td>\n",
       "      <td>2023-01-01T00:07:09.570118943Z</td>\n",
       "      <td>{'labels': {'cluster_name': 'fall-2019', 'cont...</td>\n",
       "      <td>ERROR</td>\n",
       "      <td>[I 2023-01-01 00:07:08.123 JupyterHub log:186]...</td>\n",
       "      <td>2023-01-01 00:07:08.123614954+00:00</td>\n",
       "    </tr>\n",
       "    <tr>\n",
       "      <th>2</th>\n",
       "      <td>3a8drkn15kv63vcy</td>\n",
       "      <td>{'compute.googleapis.com/resource_name': 'gke-...</td>\n",
       "      <td>projects/ucb-datahub-2018/logs/stderr</td>\n",
       "      <td>2023-01-01T00:07:09.570118943Z</td>\n",
       "      <td>{'labels': {'cluster_name': 'fall-2019', 'cont...</td>\n",
       "      <td>ERROR</td>\n",
       "      <td>[I 2023-01-01 00:07:09.177 JupyterHub log:186]...</td>\n",
       "      <td>2023-01-01 00:07:09.177935010+00:00</td>\n",
       "    </tr>\n",
       "    <tr>\n",
       "      <th>3</th>\n",
       "      <td>473ix0agod0y0uyx</td>\n",
       "      <td>{'compute.googleapis.com/resource_name': 'gke-...</td>\n",
       "      <td>projects/ucb-datahub-2018/logs/stderr</td>\n",
       "      <td>2023-01-01T00:07:49.571954687Z</td>\n",
       "      <td>{'labels': {'cluster_name': 'fall-2019', 'cont...</td>\n",
       "      <td>ERROR</td>\n",
       "      <td>[I 2023-01-01 00:07:44.794 JupyterHub log:186]...</td>\n",
       "      <td>2023-01-01 00:07:44.794346370+00:00</td>\n",
       "    </tr>\n",
       "    <tr>\n",
       "      <th>4</th>\n",
       "      <td>v8xyt3k2ovdxxaz4</td>\n",
       "      <td>{'compute.googleapis.com/resource_name': 'gke-...</td>\n",
       "      <td>projects/ucb-datahub-2018/logs/stderr</td>\n",
       "      <td>2023-01-01T00:09:46.721741684Z</td>\n",
       "      <td>{'labels': {'cluster_name': 'fall-2019', 'cont...</td>\n",
       "      <td>ERROR</td>\n",
       "      <td>[I 2023-01-01 00:09:43.333 JupyterHub log:186]...</td>\n",
       "      <td>2023-01-01 00:09:43.333464197+00:00</td>\n",
       "    </tr>\n",
       "  </tbody>\n",
       "</table>\n",
       "</div>"
      ],
      "text/plain": [
       "           insertId                                             labels  \\\n",
       "0  zfcnwk0zwtv1iq25  {'compute.googleapis.com/resource_name': 'gke-...   \n",
       "1  z7c104em5irpurin  {'compute.googleapis.com/resource_name': 'gke-...   \n",
       "2  3a8drkn15kv63vcy  {'compute.googleapis.com/resource_name': 'gke-...   \n",
       "3  473ix0agod0y0uyx  {'compute.googleapis.com/resource_name': 'gke-...   \n",
       "4  v8xyt3k2ovdxxaz4  {'compute.googleapis.com/resource_name': 'gke-...   \n",
       "\n",
       "                                 logName                receiveTimestamp  \\\n",
       "0  projects/ucb-datahub-2018/logs/stderr  2023-01-01T00:01:21.752824112Z   \n",
       "1  projects/ucb-datahub-2018/logs/stderr  2023-01-01T00:07:09.570118943Z   \n",
       "2  projects/ucb-datahub-2018/logs/stderr  2023-01-01T00:07:09.570118943Z   \n",
       "3  projects/ucb-datahub-2018/logs/stderr  2023-01-01T00:07:49.571954687Z   \n",
       "4  projects/ucb-datahub-2018/logs/stderr  2023-01-01T00:09:46.721741684Z   \n",
       "\n",
       "                                            resource severity  \\\n",
       "0  {'labels': {'cluster_name': 'fall-2019', 'cont...    ERROR   \n",
       "1  {'labels': {'cluster_name': 'fall-2019', 'cont...    ERROR   \n",
       "2  {'labels': {'cluster_name': 'fall-2019', 'cont...    ERROR   \n",
       "3  {'labels': {'cluster_name': 'fall-2019', 'cont...    ERROR   \n",
       "4  {'labels': {'cluster_name': 'fall-2019', 'cont...    ERROR   \n",
       "\n",
       "                                         textPayload  \\\n",
       "0  [I 2023-01-01 00:01:18.743 JupyterHub log:186]...   \n",
       "1  [I 2023-01-01 00:07:08.123 JupyterHub log:186]...   \n",
       "2  [I 2023-01-01 00:07:09.177 JupyterHub log:186]...   \n",
       "3  [I 2023-01-01 00:07:44.794 JupyterHub log:186]...   \n",
       "4  [I 2023-01-01 00:09:43.333 JupyterHub log:186]...   \n",
       "\n",
       "                            timestamp  \n",
       "0 2023-01-01 00:01:18.744083889+00:00  \n",
       "1 2023-01-01 00:07:08.123614954+00:00  \n",
       "2 2023-01-01 00:07:09.177935010+00:00  \n",
       "3 2023-01-01 00:07:44.794346370+00:00  \n",
       "4 2023-01-01 00:09:43.333464197+00:00  "
      ]
     },
     "execution_count": 3,
     "metadata": {},
     "output_type": "execute_result"
    }
   ],
   "source": [
    "nbgitpuller_df = pd.read_json(gzip.open('../spring-2023/nbgitpuller-clicks-spring-2023.json.gz'), lines = True)\n",
    "nbgitpuller_df.head()"
   ]
  },
  {
   "cell_type": "code",
   "execution_count": 41,
   "metadata": {},
   "outputs": [
    {
     "name": "stdout",
     "output_type": "stream",
     "text": [
      "<class 'pandas.core.frame.DataFrame'>\n",
      "RangeIndex: 623529 entries, 0 to 623528\n",
      "Data columns (total 8 columns):\n",
      " #   Column            Non-Null Count   Dtype              \n",
      "---  ------            --------------   -----              \n",
      " 0   insertId          623529 non-null  object             \n",
      " 1   labels            623529 non-null  object             \n",
      " 2   logName           623529 non-null  object             \n",
      " 3   receiveTimestamp  623529 non-null  object             \n",
      " 4   resource          623529 non-null  object             \n",
      " 5   severity          623529 non-null  object             \n",
      " 6   textPayload       623529 non-null  object             \n",
      " 7   timestamp         623529 non-null  datetime64[ns, UTC]\n",
      "dtypes: datetime64[ns, UTC](1), object(7)\n",
      "memory usage: 38.1+ MB\n"
     ]
    }
   ],
   "source": [
    "nbgitpuller_df.info()"
   ]
  },
  {
   "cell_type": "code",
   "execution_count": 4,
   "metadata": {},
   "outputs": [
    {
     "data": {
      "text/plain": [
       "c0v13bw0dxpdbys8    3\n",
       "kjiom6dco4qdl5tl    2\n",
       "9fnr0t7yub8fgtr8    2\n",
       "gkw17rk5wr7qy751    2\n",
       "x10rzxtolgz0ykuc    2\n",
       "                   ..\n",
       "70zfk9m4cqzqqv1w    1\n",
       "0u42pkppmo4spnko    1\n",
       "2w2yxbw8rpelx72b    1\n",
       "bu7dpps6l4awrcf0    1\n",
       "olzadu77iox2npd6    1\n",
       "Name: insertId, Length: 623511, dtype: int64"
      ]
     },
     "execution_count": 4,
     "metadata": {},
     "output_type": "execute_result"
    }
   ],
   "source": [
    "nbgitpuller_df.insertId.value_counts()\n",
    "# how to figure out which ones are the same user?"
   ]
  },
  {
   "cell_type": "code",
   "execution_count": 5,
   "metadata": {},
   "outputs": [
    {
     "data": {
      "text/plain": [
       "'[I 2023-01-01 00:01:18.743 JupyterHub log:186] 302 GET /hub/user-redirect/git-pull?repo=https%3A%2F%2Fgithub.com%2Fdata-8%2Fmaterials-fa22&urlpath=retro%2Ftree%2Fmaterials-fa22%2Fmaterials%2Ffa22%2Flab%2Flab01%2Flab01.ipynb&branch=main -> /hub/login?next=%2Fhub%2Fuser-redirect%2Fgit-pull%3Frepo%3Dhttps%253A%252F%252Fgithub.com%252Fdata-8%252Fmaterials-fa22%26urlpath%3Dretro%252Ftree%252Fmaterials-fa22%252Fmaterials%252Ffa22%252Flab%252Flab01%252Flab01.ipynb%26branch%3Dmain (@10.0.0.6) 0.98ms'"
      ]
     },
     "execution_count": 5,
     "metadata": {},
     "output_type": "execute_result"
    }
   ],
   "source": [
    "nbgitpuller_df.textPayload[0]"
   ]
  },
  {
   "cell_type": "code",
   "execution_count": 6,
   "metadata": {},
   "outputs": [
    {
     "data": {
      "text/plain": [
       "'[I 2023-01-01 00:01:18.743 JupyterHub log:186] 302 GET /hub/user-redirect/git-pull?repo=https%3A%2F%2Fgithub.com%2Fdata-8%2Fmaterials-fa22&urlpath=retro%2Ftree%2Fmaterials-fa22%2Fmaterials%2Ffa22%2Flab%2Flab01%2Flab01.ipynb&branch=main -> /hub/login?next=%2Fhub%2Fuser-redirect%2Fgit-pull%3Frepo%3Dhttps%253A%252F%252Fgithub.com%252Fdata-8%252Fmaterials-fa22%26urlpath%3Dretro%252Ftree%252Fmaterials-fa22%252Fmaterials%252Ffa22%252Flab%252Flab01%252Flab01.ipynb%26branch%3Dmain (@10.0.0.6) 0.98ms'"
      ]
     },
     "execution_count": 6,
     "metadata": {},
     "output_type": "execute_result"
    }
   ],
   "source": [
    "# need to figure out the log level - do we care about this?\n",
    "sample = nbgitpuller_df.textPayload[0]\n",
    "sample"
   ]
  },
  {
   "cell_type": "code",
   "execution_count": 7,
   "metadata": {},
   "outputs": [],
   "source": [
    "log_info = nbgitpuller_df.textPayload.apply(lambda x: ''.join(re.findall(\"\\[.*\\]\", x)).replace('[', '').replace(']', '').split(' '))\n"
   ]
  },
  {
   "cell_type": "code",
   "execution_count": 8,
   "metadata": {},
   "outputs": [
    {
     "data": {
      "text/plain": [
       "['I', '2023-01-01', '00:01:18.743', 'JupyterHub', 'log:186']"
      ]
     },
     "execution_count": 8,
     "metadata": {},
     "output_type": "execute_result"
    }
   ],
   "source": [
    "log_info[0]"
   ]
  },
  {
   "cell_type": "code",
   "execution_count": 9,
   "metadata": {},
   "outputs": [
    {
     "data": {
      "text/plain": [
       "'/hub/user-redirect/git-pull?repo=https%3A%2F%2Fgithub.com%2Fdata-8%2Fmaterials-fa22&urlpath=retro%2Ftree%2Fmaterials-fa22%2Fmaterials%2Ffa22%2Flab%2Flab01%2Flab01.ipynb&branch=main'"
      ]
     },
     "execution_count": 9,
     "metadata": {},
     "output_type": "execute_result"
    }
   ],
   "source": [
    "# obtaining substring after GET and before the redirection\n",
    "urls = nbgitpuller_df.textPayload.apply(lambda x: x[x.find('GET')+3:x.find('->')].strip())\n",
    "urls[0]"
   ]
  },
  {
   "cell_type": "code",
   "execution_count": 10,
   "metadata": {},
   "outputs": [],
   "source": [
    "urls_parsed = urls.apply(lambda x: urlparse(x))"
   ]
  },
  {
   "cell_type": "code",
   "execution_count": 11,
   "metadata": {},
   "outputs": [],
   "source": [
    "actions = urls_parsed.apply(lambda x: os.path.basename(x.path))"
   ]
  },
  {
   "cell_type": "code",
   "execution_count": 14,
   "metadata": {},
   "outputs": [
    {
     "data": {
      "text/plain": [
       "{'repo': ['https://github.com/data-8/materials-fa22'],\n",
       " 'urlpath': ['retro/tree/materials-fa22/materials/fa22/lab/lab01/lab01.ipynb'],\n",
       " 'branch': ['main']}"
      ]
     },
     "execution_count": 14,
     "metadata": {},
     "output_type": "execute_result"
    }
   ],
   "source": [
    "url_queries = urls_parsed.apply(lambda x: parse_qs(x.query))"
   ]
  },
  {
   "cell_type": "code",
   "execution_count": 29,
   "metadata": {},
   "outputs": [
    {
     "data": {
      "text/plain": [
       "['https://github.com/data-8/materials-fa22']"
      ]
     },
     "execution_count": 29,
     "metadata": {},
     "output_type": "execute_result"
    }
   ],
   "source": [
    "url_queries[0]['repo']"
   ]
  },
  {
   "cell_type": "code",
   "execution_count": 36,
   "metadata": {},
   "outputs": [],
   "source": [
    "repos = url_queries.apply(lambda x: x.get('repo')[0] if x.get('repo') else None)"
   ]
  },
  {
   "cell_type": "code",
   "execution_count": 43,
   "metadata": {},
   "outputs": [
    {
     "name": "stdout",
     "output_type": "stream",
     "text": [
      "<class 'pandas.core.series.Series'>\n",
      "RangeIndex: 623529 entries, 0 to 623528\n",
      "Series name: textPayload\n",
      "Non-Null Count   Dtype \n",
      "--------------   ----- \n",
      "623520 non-null  object\n",
      "dtypes: object(1)\n",
      "memory usage: 4.8+ MB\n"
     ]
    }
   ],
   "source": [
    "repos.info()\n",
    "# there appears to be 9 log entries without a repo name"
   ]
  },
  {
   "cell_type": "code",
   "execution_count": 55,
   "metadata": {},
   "outputs": [
    {
     "data": {
      "text/plain": [
       "112244    {'account': ['class-account'], 'path': ['RC_La...\n",
       "203505    {'reset?repo': ['https://github.com/DS-100/sp2...\n",
       "215170    {' repo': ['https://github.com/ds-modules/SW-2...\n",
       "277827                          {'account': ['ds-modules']}\n",
       "310073                                                   {}\n",
       "310075                                                   {}\n",
       "446591    {'account': ['LogsCrepo=EEP153-Project3-Spring...\n",
       "446593    {'account': ['LogsCrepo=EEP153-Project3-Spring...\n",
       "515128                                                   {}\n",
       "Name: textPayload, dtype: object"
      ]
     },
     "execution_count": 55,
     "metadata": {},
     "output_type": "execute_result"
    }
   ],
   "source": [
    "url_queries[repos.isna()]"
   ]
  },
  {
   "cell_type": "code",
   "execution_count": 58,
   "metadata": {},
   "outputs": [
    {
     "data": {
      "text/html": [
       "<div>\n",
       "<style scoped>\n",
       "    .dataframe tbody tr th:only-of-type {\n",
       "        vertical-align: middle;\n",
       "    }\n",
       "\n",
       "    .dataframe tbody tr th {\n",
       "        vertical-align: top;\n",
       "    }\n",
       "\n",
       "    .dataframe thead th {\n",
       "        text-align: right;\n",
       "    }\n",
       "</style>\n",
       "<table border=\"1\" class=\"dataframe\">\n",
       "  <thead>\n",
       "    <tr style=\"text-align: right;\">\n",
       "      <th></th>\n",
       "      <th>insertId</th>\n",
       "      <th>labels</th>\n",
       "      <th>logName</th>\n",
       "      <th>receiveTimestamp</th>\n",
       "      <th>resource</th>\n",
       "      <th>severity</th>\n",
       "      <th>textPayload</th>\n",
       "      <th>timestamp</th>\n",
       "    </tr>\n",
       "  </thead>\n",
       "  <tbody>\n",
       "    <tr>\n",
       "      <th>112244</th>\n",
       "      <td>x0wty2193og1j9ym</td>\n",
       "      <td>{'compute.googleapis.com/resource_name': 'gke-...</td>\n",
       "      <td>projects/ucb-datahub-2018/logs/stderr</td>\n",
       "      <td>2023-02-01T22:38:59.829577054Z</td>\n",
       "      <td>{'labels': {'cluster_name': 'fall-2019', 'cont...</td>\n",
       "      <td>ERROR</td>\n",
       "      <td>[I 2023-02-01 22:38:59.759 JupyterHub log:186]...</td>\n",
       "      <td>2023-02-01 22:38:59.759808676+00:00</td>\n",
       "    </tr>\n",
       "    <tr>\n",
       "      <th>203505</th>\n",
       "      <td>akhldxkk8bqprqe9</td>\n",
       "      <td>{'compute.googleapis.com/resource_name': 'gke-...</td>\n",
       "      <td>projects/ucb-datahub-2018/logs/stderr</td>\n",
       "      <td>2023-02-15T18:07:21.891237575Z</td>\n",
       "      <td>{'labels': {'cluster_name': 'fall-2019', 'cont...</td>\n",
       "      <td>ERROR</td>\n",
       "      <td>[I 2023-02-15 18:07:20.570 JupyterHub log:186]...</td>\n",
       "      <td>2023-02-15 18:07:20.570482563+00:00</td>\n",
       "    </tr>\n",
       "    <tr>\n",
       "      <th>215170</th>\n",
       "      <td>41vvuoddeerzds7j</td>\n",
       "      <td>{'compute.googleapis.com/resource_name': 'gke-...</td>\n",
       "      <td>projects/ucb-datahub-2018/logs/stderr</td>\n",
       "      <td>2023-02-16T22:26:31.933617587Z</td>\n",
       "      <td>{'labels': {'cluster_name': 'fall-2019', 'cont...</td>\n",
       "      <td>ERROR</td>\n",
       "      <td>[I 2023-02-16 22:26:30.758 JupyterHub log:186]...</td>\n",
       "      <td>2023-02-16 22:26:30.758262870+00:00</td>\n",
       "    </tr>\n",
       "    <tr>\n",
       "      <th>277827</th>\n",
       "      <td>b0r85kgp3pi8n7wk</td>\n",
       "      <td>{'compute.googleapis.com/resource_name': 'gke-...</td>\n",
       "      <td>projects/ucb-datahub-2018/logs/stderr</td>\n",
       "      <td>2023-02-27T21:17:01.934213097Z</td>\n",
       "      <td>{'labels': {'cluster_name': 'fall-2019', 'cont...</td>\n",
       "      <td>ERROR</td>\n",
       "      <td>[I 2023-02-27 21:17:00.566 JupyterHub log:186]...</td>\n",
       "      <td>2023-02-27 21:17:00.567655853+00:00</td>\n",
       "    </tr>\n",
       "    <tr>\n",
       "      <th>310073</th>\n",
       "      <td>bxvludlr9sboev3k</td>\n",
       "      <td>{'compute.googleapis.com/resource_name': 'gke-...</td>\n",
       "      <td>projects/ucb-datahub-2018/logs/stderr</td>\n",
       "      <td>2023-03-05T20:48:46.96765191Z</td>\n",
       "      <td>{'labels': {'cluster_name': 'fall-2019', 'cont...</td>\n",
       "      <td>ERROR</td>\n",
       "      <td>[I 2023-03-05 20:48:44.829 JupyterHub log:186]...</td>\n",
       "      <td>2023-03-05 20:48:44.830023537+00:00</td>\n",
       "    </tr>\n",
       "    <tr>\n",
       "      <th>310075</th>\n",
       "      <td>arqovpme4dahkr1i</td>\n",
       "      <td>{'compute.googleapis.com/resource_name': 'gke-...</td>\n",
       "      <td>projects/ucb-datahub-2018/logs/stderr</td>\n",
       "      <td>2023-03-05T20:48:51.879211365Z</td>\n",
       "      <td>{'labels': {'cluster_name': 'fall-2019', 'cont...</td>\n",
       "      <td>ERROR</td>\n",
       "      <td>[I 2023-03-05 20:48:46.912 JupyterHub log:186]...</td>\n",
       "      <td>2023-03-05 20:48:46.912822045+00:00</td>\n",
       "    </tr>\n",
       "    <tr>\n",
       "      <th>446591</th>\n",
       "      <td>i2846ttzskvx9w6m</td>\n",
       "      <td>{'compute.googleapis.com/resource_name': 'gke-...</td>\n",
       "      <td>projects/ucb-datahub-2018/logs/stderr</td>\n",
       "      <td>2023-04-05T20:44:25.992645698Z</td>\n",
       "      <td>{'labels': {'cluster_name': 'fall-2019', 'cont...</td>\n",
       "      <td>ERROR</td>\n",
       "      <td>[I 2023-04-05 20:44:22.856 JupyterHub log:191]...</td>\n",
       "      <td>2023-04-05 20:44:22.857108156+00:00</td>\n",
       "    </tr>\n",
       "    <tr>\n",
       "      <th>446593</th>\n",
       "      <td>cwubfr714ozhctkx</td>\n",
       "      <td>{'compute.googleapis.com/resource_name': 'gke-...</td>\n",
       "      <td>projects/ucb-datahub-2018/logs/stderr</td>\n",
       "      <td>2023-04-05T20:44:31.037794207Z</td>\n",
       "      <td>{'labels': {'cluster_name': 'fall-2019', 'cont...</td>\n",
       "      <td>ERROR</td>\n",
       "      <td>[I 2023-04-05 20:44:27.192 JupyterHub log:191]...</td>\n",
       "      <td>2023-04-05 20:44:27.192898761+00:00</td>\n",
       "    </tr>\n",
       "    <tr>\n",
       "      <th>515128</th>\n",
       "      <td>b02tzu2dptq5fuqk</td>\n",
       "      <td>{'compute.googleapis.com/resource_name': 'gke-...</td>\n",
       "      <td>projects/ucb-datahub-2018/logs/stderr</td>\n",
       "      <td>2023-04-18T06:05:35.925587637Z</td>\n",
       "      <td>{'labels': {'cluster_name': 'fall-2019', 'cont...</td>\n",
       "      <td>ERROR</td>\n",
       "      <td>[I 2023-04-18 06:05:35.334 JupyterHub log:191]...</td>\n",
       "      <td>2023-04-18 06:05:35.334815871+00:00</td>\n",
       "    </tr>\n",
       "  </tbody>\n",
       "</table>\n",
       "</div>"
      ],
      "text/plain": [
       "                insertId                                             labels  \\\n",
       "112244  x0wty2193og1j9ym  {'compute.googleapis.com/resource_name': 'gke-...   \n",
       "203505  akhldxkk8bqprqe9  {'compute.googleapis.com/resource_name': 'gke-...   \n",
       "215170  41vvuoddeerzds7j  {'compute.googleapis.com/resource_name': 'gke-...   \n",
       "277827  b0r85kgp3pi8n7wk  {'compute.googleapis.com/resource_name': 'gke-...   \n",
       "310073  bxvludlr9sboev3k  {'compute.googleapis.com/resource_name': 'gke-...   \n",
       "310075  arqovpme4dahkr1i  {'compute.googleapis.com/resource_name': 'gke-...   \n",
       "446591  i2846ttzskvx9w6m  {'compute.googleapis.com/resource_name': 'gke-...   \n",
       "446593  cwubfr714ozhctkx  {'compute.googleapis.com/resource_name': 'gke-...   \n",
       "515128  b02tzu2dptq5fuqk  {'compute.googleapis.com/resource_name': 'gke-...   \n",
       "\n",
       "                                      logName                receiveTimestamp  \\\n",
       "112244  projects/ucb-datahub-2018/logs/stderr  2023-02-01T22:38:59.829577054Z   \n",
       "203505  projects/ucb-datahub-2018/logs/stderr  2023-02-15T18:07:21.891237575Z   \n",
       "215170  projects/ucb-datahub-2018/logs/stderr  2023-02-16T22:26:31.933617587Z   \n",
       "277827  projects/ucb-datahub-2018/logs/stderr  2023-02-27T21:17:01.934213097Z   \n",
       "310073  projects/ucb-datahub-2018/logs/stderr   2023-03-05T20:48:46.96765191Z   \n",
       "310075  projects/ucb-datahub-2018/logs/stderr  2023-03-05T20:48:51.879211365Z   \n",
       "446591  projects/ucb-datahub-2018/logs/stderr  2023-04-05T20:44:25.992645698Z   \n",
       "446593  projects/ucb-datahub-2018/logs/stderr  2023-04-05T20:44:31.037794207Z   \n",
       "515128  projects/ucb-datahub-2018/logs/stderr  2023-04-18T06:05:35.925587637Z   \n",
       "\n",
       "                                                 resource severity  \\\n",
       "112244  {'labels': {'cluster_name': 'fall-2019', 'cont...    ERROR   \n",
       "203505  {'labels': {'cluster_name': 'fall-2019', 'cont...    ERROR   \n",
       "215170  {'labels': {'cluster_name': 'fall-2019', 'cont...    ERROR   \n",
       "277827  {'labels': {'cluster_name': 'fall-2019', 'cont...    ERROR   \n",
       "310073  {'labels': {'cluster_name': 'fall-2019', 'cont...    ERROR   \n",
       "310075  {'labels': {'cluster_name': 'fall-2019', 'cont...    ERROR   \n",
       "446591  {'labels': {'cluster_name': 'fall-2019', 'cont...    ERROR   \n",
       "446593  {'labels': {'cluster_name': 'fall-2019', 'cont...    ERROR   \n",
       "515128  {'labels': {'cluster_name': 'fall-2019', 'cont...    ERROR   \n",
       "\n",
       "                                              textPayload  \\\n",
       "112244  [I 2023-02-01 22:38:59.759 JupyterHub log:186]...   \n",
       "203505  [I 2023-02-15 18:07:20.570 JupyterHub log:186]...   \n",
       "215170  [I 2023-02-16 22:26:30.758 JupyterHub log:186]...   \n",
       "277827  [I 2023-02-27 21:17:00.566 JupyterHub log:186]...   \n",
       "310073  [I 2023-03-05 20:48:44.829 JupyterHub log:186]...   \n",
       "310075  [I 2023-03-05 20:48:46.912 JupyterHub log:186]...   \n",
       "446591  [I 2023-04-05 20:44:22.856 JupyterHub log:191]...   \n",
       "446593  [I 2023-04-05 20:44:27.192 JupyterHub log:191]...   \n",
       "515128  [I 2023-04-18 06:05:35.334 JupyterHub log:191]...   \n",
       "\n",
       "                                 timestamp  \n",
       "112244 2023-02-01 22:38:59.759808676+00:00  \n",
       "203505 2023-02-15 18:07:20.570482563+00:00  \n",
       "215170 2023-02-16 22:26:30.758262870+00:00  \n",
       "277827 2023-02-27 21:17:00.567655853+00:00  \n",
       "310073 2023-03-05 20:48:44.830023537+00:00  \n",
       "310075 2023-03-05 20:48:46.912822045+00:00  \n",
       "446591 2023-04-05 20:44:22.857108156+00:00  \n",
       "446593 2023-04-05 20:44:27.192898761+00:00  \n",
       "515128 2023-04-18 06:05:35.334815871+00:00  "
      ]
     },
     "execution_count": 58,
     "metadata": {},
     "output_type": "execute_result"
    }
   ],
   "source": [
    "nbgitpuller_df[repos.isna()]"
   ]
  },
  {
   "cell_type": "code",
   "execution_count": 63,
   "metadata": {},
   "outputs": [],
   "source": [
    "missing_repo_entries = nbgitpuller_df.textPayload[repos.isna()]"
   ]
  },
  {
   "cell_type": "code",
   "execution_count": 64,
   "metadata": {},
   "outputs": [
    {
     "data": {
      "text/plain": [
       "112244    [I 2023-02-01 22:38:59.759 JupyterHub log:186]...\n",
       "203505    [I 2023-02-15 18:07:20.570 JupyterHub log:186]...\n",
       "215170    [I 2023-02-16 22:26:30.758 JupyterHub log:186]...\n",
       "277827    [I 2023-02-27 21:17:00.566 JupyterHub log:186]...\n",
       "310073    [I 2023-03-05 20:48:44.829 JupyterHub log:186]...\n",
       "310075    [I 2023-03-05 20:48:46.912 JupyterHub log:186]...\n",
       "446591    [I 2023-04-05 20:44:22.856 JupyterHub log:191]...\n",
       "446593    [I 2023-04-05 20:44:27.192 JupyterHub log:191]...\n",
       "515128    [I 2023-04-18 06:05:35.334 JupyterHub log:191]...\n",
       "Name: textPayload, dtype: object"
      ]
     },
     "execution_count": 64,
     "metadata": {},
     "output_type": "execute_result"
    }
   ],
   "source": [
    "missing_repo_entries"
   ]
  },
  {
   "cell_type": "code",
   "execution_count": 67,
   "metadata": {},
   "outputs": [
    {
     "data": {
      "text/plain": [
       "'[I 2023-02-15 18:07:20.570 JupyterHub log:186] 302 GET /hub/user-redirect/git-pull?reset?repo=https%3A%2F%2Fgithub.com%2FDS-100%2Fsp23&branch=main&urlpath=lab%2Ftree%2Fsp23%2Fhw%2Fhw02%2Fhw02.ipynb -> /hub/spawn/rohan.jha?next=%2Fuser%2Frohan.jha%2Fgit-pull%3Freset%253Frepo%3Dhttps%253A%252F%252Fgithub.com%252FDS-100%252Fsp23%26branch%3Dmain%26urlpath%3Dlab%252Ftree%252Fsp23%252Fhw%252Fhw02%252Fhw02.ipynb (rohan.jha@10.0.0.23) 19.61ms'"
      ]
     },
     "execution_count": 67,
     "metadata": {},
     "output_type": "execute_result"
    }
   ],
   "source": [
    "missing_repo_entries[203505]"
   ]
  },
  {
   "cell_type": "code",
   "execution_count": null,
   "metadata": {},
   "outputs": [],
   "source": [
    "# create df of the log_info_types timestamp, the action (pull or sync), and then the repo and make it into a dataframe\n",
    "nbgitpuller_textPayload_df = pd.DataFrame({'log_info_type': log_info.apply(lambda x: x[0]),\n",
    "                                           'timestamp_date': log_info.apply(lambda x: x[1]),\n",
    "                                           'timestamp_time': log_info.apply(lambda x: x[2]),\n",
    "                                           'action': actions,\n",
    "                                           'repo': repos,\n",
    "                                           'hub': ,\n",
    "                                           'semester': })"
   ]
  },
  {
   "cell_type": "code",
   "execution_count": null,
   "metadata": {},
   "outputs": [],
   "source": []
  },
  {
   "cell_type": "code",
   "execution_count": null,
   "metadata": {},
   "outputs": [],
   "source": []
  },
  {
   "cell_type": "code",
   "execution_count": 24,
   "metadata": {},
   "outputs": [],
   "source": [
    "nbgitpuller_df_sample = nbgitpuller_df.sample(100)"
   ]
  },
  {
   "cell_type": "code",
   "execution_count": 23,
   "metadata": {},
   "outputs": [],
   "source": [
    "def strip_find_all(result, url):\n",
    "    if len(result) != 0:\n",
    "        result = result[0]\n",
    "        return result\n",
    "    else:\n",
    "        print(\"URL\", url)\n",
    "        print(\"RESULT\", result)\n",
    "        return []\n",
    "\n",
    "\n",
    "def find_repo_name2(url):\n",
    "    action = \"\"\n",
    "    if 'git-sync' in url or 'git-pull' in url:\n",
    "        if 'git-sync' in url:\n",
    "            action = 'sync'\n",
    "        elif 'git-pull' in url:\n",
    "            action = 'pull'\n",
    "\n",
    "        if 'github.com' in url:\n",
    "            result = re.findall(\"github\\.com(\\/|%2F|%252F)(.+?)(\\/|%2F|%252F)(.+?)&\", url)\n",
    "            if len(result) == 0:\n",
    "                result = re.findall(\"github\\.com(\\/|%2F|%252F)(.+?)(\\/|%2F|%252F)(.+)\", url)\n",
    "            result = strip_find_all(result, url)\n",
    "            if len(result) == 0:\n",
    "                return \"\", \"\", \"failed\"\n",
    "            return result[1], result[3], action\n",
    "        elif \"github.berkeley.edu\" in url:\n",
    "            result = re.findall(\"github\\.berkeley\\.edu(\\/|%2F|%252F)(.+?)(\\/|%2F|%252F)(.+?)&\", url)\n",
    "            if len(result) == 0:\n",
    "                result = re.findall(\"github\\.berkeley\\.edu(\\/|%2F|%252F)(.+?)(\\/|%2F|%252F)(.+)\", url)\n",
    "            result = strip_find_all(result, url)\n",
    "            if len(result) == 0:\n",
    "                return \"\", \"\", \"failed\"\n",
    "            return result[1], result[3], action\n",
    "        elif \"github\" in url:\n",
    "            result = re.findall(\"github(\\.|%2F)com(\\/|%2F|%252F)(.+?)(\\/|%2F|%252F)(.+?)&\", url)\n",
    "            if len(result) == 0:\n",
    "                result = re.findall(\"github(\\.|%2F)com(\\/|%2F|%252F)(.+?)(\\/|%2F|%252F)(.+)\", url)\n",
    "            result = strip_find_all(result, url)\n",
    "            if len(result) == 0:\n",
    "                return \"\", \"\", \"failed\"\n",
    "            return result[2], result[4], action\n",
    "        elif 'git@' in url:\n",
    "            result = re.findall(\"git@(.+?):(.+?)(\\/|%2F|%252F)(.+)\", url)\n",
    "            result = strip_find_all(result, url)\n",
    "            if len(result) == 0:\n",
    "                return \"\", \"\", \"failed\"\n",
    "            return result[1], result[3], action\n",
    "    else:\n",
    "        if 'account=' in url and 'repo=' in url:\n",
    "            result = re.findall(\"account=(.+?)&.*repo=(.+?)&\", url)\n",
    "            if len(result) == 0:\n",
    "                result = re.findall(\"account=(.+?)&.*repo=(.+)\", url)\n",
    "        elif 'account=' in url:\n",
    "            result = re.findall(\"account=(.+)\", url)\n",
    "        elif 'repo=' in url:\n",
    "            result = re.findall(\"repo=(.+?)&\", url)\n",
    "            if len(result) == 0:\n",
    "                result = re.findall(\"repo=(.+)\", url)\n",
    "        else:\n",
    "            print(\"URL\", url)\n",
    "            return \"\", \"\", \"failed\"\n",
    "        action = \"interact\"\n",
    "        result = strip_find_all(result, url)\n",
    "        if len(result) == 0:\n",
    "            return \"\", \"\", \"failed\"\n",
    "        if 'account=' in url and 'repo=' in url:\n",
    "            return result[0], result[1], action\n",
    "        elif 'account=' in url:\n",
    "            return result[0], \"\", action\n",
    "        elif 'repo=' in url:\n",
    "            return \"\", result[0], action\n",
    "    return \"\", \"\", \"failed\"\n",
    "        "
   ]
  },
  {
   "cell_type": "code",
   "execution_count": 27,
   "metadata": {},
   "outputs": [],
   "source": [
    "extracted = nbgitpuller_df_sample['textPayload'].apply(find_repo_name2)"
   ]
  },
  {
   "cell_type": "code",
   "execution_count": 28,
   "metadata": {},
   "outputs": [
    {
     "data": {
      "text/plain": [
       "76742      (data-8, materials-sp23, pull)\n",
       "36371                (DS-100, sp23, pull)\n",
       "49313      (data-8, materials-sp20, sync)\n",
       "180263    (prob140, materials-sp23, pull)\n",
       "228001               (DS-100, sp23, pull)\n",
       "                       ...               \n",
       "70790      (data-8, materials-sp23, pull)\n",
       "482640     (data-8, materials-sp23, pull)\n",
       "452588     (data-8, materials-sp23, pull)\n",
       "32014       (ph142-ucb, ph142-sp23, pull)\n",
       "173390      (ph142-ucb, ph142-sp23, pull)\n",
       "Name: textPayload, Length: 100, dtype: object"
      ]
     },
     "execution_count": 28,
     "metadata": {},
     "output_type": "execute_result"
    }
   ],
   "source": [
    "extracted"
   ]
  },
  {
   "cell_type": "code",
   "execution_count": null,
   "metadata": {},
   "outputs": [],
   "source": []
  }
 ],
 "metadata": {
  "kernelspec": {
   "display_name": "base",
   "language": "python",
   "name": "python3"
  },
  "language_info": {
   "codemirror_mode": {
    "name": "ipython",
    "version": 3
   },
   "file_extension": ".py",
   "mimetype": "text/x-python",
   "name": "python",
   "nbconvert_exporter": "python",
   "pygments_lexer": "ipython3",
   "version": "3.10.12"
  },
  "orig_nbformat": 4
 },
 "nbformat": 4,
 "nbformat_minor": 2
}
