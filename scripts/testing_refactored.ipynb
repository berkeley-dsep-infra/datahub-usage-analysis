{
 "cells": [
  {
   "cell_type": "code",
   "execution_count": 7,
   "id": "ca9d6395-1c99-4777-8d99-6cb3fafa8ab1",
   "metadata": {},
   "outputs": [],
   "source": [
    "from query_courseid import getCourseInformation"
   ]
  },
  {
   "cell_type": "code",
   "execution_count": null,
   "id": "0416e742-1cc7-463e-ba06-ced22efda7be",
   "metadata": {},
   "outputs": [],
   "source": []
  },
  {
   "cell_type": "code",
   "execution_count": 5,
   "id": "3552e1c7-108b-49a9-b8ff-440f373a6971",
   "metadata": {},
   "outputs": [
    {
     "name": "stdout",
     "output_type": "stream",
     "text": [
      "\"Failed to retrieve data for data8. Status code: 401\"\n",
      "\"Failed to retrieve data for data8. Status code: 401\"\n",
      "\"Failed to retrieve data for compsci189. Status code: 401\"\n",
      "\"Failed to retrieve data for compsci189. Status code: 401\"\n"
     ]
    }
   ],
   "source": [
    "# Example usage of the imported function\n",
    "term_id = \"2242\"\n",
    "class_names = [\"data8\", \"compsci189\"]\n",
    "\n",
    "for class_name in class_names:\n",
    "    result = getCourseInformation(term_id, class_name)\n",
    "    print(result)"
   ]
  },
  {
   "cell_type": "code",
   "execution_count": 6,
   "id": "13eae8b4-281e-42ca-a823-3c9d2c2ff177",
   "metadata": {},
   "outputs": [
    {
     "name": "stdout",
     "output_type": "stream",
     "text": [
      "\"Failed to retrieve data for data100. Status code: 401\"\n"
     ]
    },
    {
     "data": {
      "text/plain": [
       "'\"Failed to retrieve data for data100. Status code: 401\"'"
      ]
     },
     "execution_count": 6,
     "metadata": {},
     "output_type": "execute_result"
    }
   ],
   "source": [
    "getCourseInformation('2242', 'data100')"
   ]
  },
  {
   "cell_type": "code",
   "execution_count": null,
   "id": "eb4ef72a-915d-4dd0-ae7f-fdff54ed4024",
   "metadata": {},
   "outputs": [],
   "source": []
  },
  {
   "cell_type": "code",
   "execution_count": null,
   "id": "99a0c133-e2c9-4066-8c98-b37951921948",
   "metadata": {},
   "outputs": [],
   "source": []
  }
 ],
 "metadata": {
  "kernelspec": {
   "display_name": "Python 3 (ipykernel)",
   "language": "python",
   "name": "python3"
  },
  "language_info": {
   "codemirror_mode": {
    "name": "ipython",
    "version": 3
   },
   "file_extension": ".py",
   "mimetype": "text/x-python",
   "name": "python",
   "nbconvert_exporter": "python",
   "pygments_lexer": "ipython3",
   "version": "3.11.9"
  }
 },
 "nbformat": 4,
 "nbformat_minor": 5
}
